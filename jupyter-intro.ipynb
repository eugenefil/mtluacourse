{
 "cells": [
  {
   "cell_type": "markdown",
   "id": "7067a39c",
   "metadata": {},
   "source": [
    "# Введение в Jupyter Notebook"
   ]
  },
  {
   "cell_type": "markdown",
   "id": "74d5f598",
   "metadata": {},
   "source": [
    "Jupyter - это среда для программирования, в которой работа ведётся в так называемых Jupyter Notebook (далее будем называть просто ноутбук). Ноутбук позволяет хранить в одном документе программный код, красивое описание к нему, картинки, графики и т.д. Ноутбук состоит из ячеек."
   ]
  },
  {
   "cell_type": "markdown",
   "id": "edf808c6",
   "metadata": {},
   "source": [
    "## Кодовые ячейки"
   ]
  },
  {
   "cell_type": "markdown",
   "id": "f2b866de",
   "metadata": {},
   "source": [
    "Программный код ноутбука вводится в кодовые ячейки, например:"
   ]
  },
  {
   "cell_type": "code",
   "execution_count": null,
   "id": "5cd31265",
   "metadata": {},
   "outputs": [],
   "source": [
    "print(5)"
   ]
  },
  {
   "cell_type": "markdown",
   "id": "529ded11",
   "metadata": {},
   "source": [
    "Чтобы редактировать ячейку, нажмите на ней Enter или щёлкните по ней мышью."
   ]
  },
  {
   "cell_type": "markdown",
   "id": "447eb4d8",
   "metadata": {},
   "source": [
    "Чтобы выполнить код в ячейке, перейдите на неё и нажмите Control+Enter. После выполнения ячейке присваивается порядковый номер, например In [1]. Следующая выполненная ячейка будет иметь номер In [2] и т.д. По номерам ячеек можно отследить порядок выполнения кода в ноутбуке. Выполните следующую ячейку."
   ]
  },
  {
   "cell_type": "code",
   "execution_count": 1,
   "id": "21c86b55",
   "metadata": {},
   "outputs": [
    {
     "name": "stdout",
     "output_type": "stream",
     "text": [
      "10\n"
     ]
    }
   ],
   "source": [
    "print(10)"
   ]
  },
  {
   "cell_type": "markdown",
   "id": "ee75f624",
   "metadata": {},
   "source": [
    "Если ячейка возвращает значение или делает вывод на экран, он будет показан снизу ячейки. В примере выше print выводит число 10."
   ]
  },
  {
   "cell_type": "markdown",
   "id": "6335fee7",
   "metadata": {},
   "source": [
    "Чтобы создать новую ячейку ниже текущей ячейки, нажмите B. Чтобы создать выше, нажмите A. Чтобы удалить текущую ячейку, нажмите два раза D."
   ]
  },
  {
   "cell_type": "markdown",
   "id": "968b7063",
   "metadata": {},
   "source": [
    "В ячейку можно ввести сколько угодно строк кода. Весь блок кода выполняется разом при выполнении ячейки."
   ]
  },
  {
   "cell_type": "code",
   "execution_count": 3,
   "id": "0fffee25",
   "metadata": {},
   "outputs": [
    {
     "name": "stdout",
     "output_type": "stream",
     "text": [
      "иван иванов\n"
     ]
    }
   ],
   "source": [
    "name = 'иван'\n",
    "surname = 'иванов'\n",
    "myname = name .. ' ' .. surname\n",
    "print(myname)"
   ]
  },
  {
   "cell_type": "markdown",
   "id": "cb2c3254",
   "metadata": {},
   "source": [
    "В кодовых ячейках делается подсветка синтаксиса. Например, в ячейке выше строковые значения выделены красным цветом, а функция print - зелёным."
   ]
  },
  {
   "cell_type": "markdown",
   "id": "b645b167",
   "metadata": {},
   "source": [
    "## Текстовые ячейки"
   ]
  },
  {
   "cell_type": "markdown",
   "id": "4e094159",
   "metadata": {},
   "source": [
    "Оформление ноутбука делается с помощью текстовых ячеек. Чтобы сделать ячейку текстовой, нажмите на ней клавишу M. Текстовые ячейки не имеют номеров \"In [ ]\" и поддерживают язык разметки [Markdown](https://ru.wikipedia.org/wiki/Markdown)."
   ]
  },
  {
   "cell_type": "markdown",
   "id": "684f2e77",
   "metadata": {},
   "source": [
    "Например, заголовок 3-го уровня в Markdown оформляется с помощью трёх символов #:"
   ]
  },
  {
   "cell_type": "markdown",
   "id": "c19db768",
   "metadata": {},
   "source": [
    "### Пример заголовка"
   ]
  },
  {
   "cell_type": "markdown",
   "id": "a9cefdfc",
   "metadata": {},
   "source": [
    "После нажатия Control+Enter заголовок будет выглядеть так:"
   ]
  },
  {
   "cell_type": "markdown",
   "id": "d5dafe2f",
   "metadata": {},
   "source": [
    "### Пример заголовка"
   ]
  },
  {
   "cell_type": "code",
   "execution_count": null,
   "id": "21185dce",
   "metadata": {},
   "outputs": [],
   "source": []
  },
  {
   "cell_type": "code",
   "execution_count": null,
   "id": "b5330245",
   "metadata": {},
   "outputs": [],
   "source": []
  },
  {
   "cell_type": "code",
   "execution_count": null,
   "id": "7f22e44e",
   "metadata": {},
   "outputs": [],
   "source": []
  },
  {
   "cell_type": "code",
   "execution_count": null,
   "id": "bf014393",
   "metadata": {},
   "outputs": [],
   "source": []
  },
  {
   "cell_type": "code",
   "execution_count": null,
   "id": "660d60f7",
   "metadata": {},
   "outputs": [],
   "source": []
  },
  {
   "cell_type": "code",
   "execution_count": null,
   "id": "02ca36ca",
   "metadata": {},
   "outputs": [],
   "source": []
  },
  {
   "cell_type": "code",
   "execution_count": null,
   "id": "4293647a",
   "metadata": {},
   "outputs": [],
   "source": []
  },
  {
   "cell_type": "code",
   "execution_count": null,
   "id": "f940b524",
   "metadata": {},
   "outputs": [],
   "source": []
  },
  {
   "cell_type": "code",
   "execution_count": null,
   "id": "8c42bf04",
   "metadata": {},
   "outputs": [],
   "source": []
  },
  {
   "cell_type": "code",
   "execution_count": null,
   "id": "aacb9894",
   "metadata": {},
   "outputs": [],
   "source": []
  },
  {
   "cell_type": "code",
   "execution_count": null,
   "id": "5a43468a",
   "metadata": {},
   "outputs": [],
   "source": []
  }
 ],
 "metadata": {
  "kernelspec": {
   "display_name": "Minetest Lua",
   "language": "lua",
   "name": "mtlua"
  },
  "language_info": {
   "file_extension": ".lua",
   "mimetype": "text/x-lua",
   "name": "lua"
  }
 },
 "nbformat": 4,
 "nbformat_minor": 5
}
