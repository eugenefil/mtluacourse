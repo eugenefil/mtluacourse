{
 "cells": [
  {
   "cell_type": "markdown",
   "id": "ee999231",
   "metadata": {},
   "source": [
    "# Списки"
   ]
  },
  {
   "cell_type": "markdown",
   "id": "49688ead",
   "metadata": {},
   "source": [
    "## Простые списки"
   ]
  },
  {
   "cell_type": "markdown",
   "id": "b36fabbc",
   "metadata": {},
   "source": [
    "Список используется для хранения набора значений и создаётся с помощью фигурных скобок {}, внутри которых значения перечисляются через запятую. Например, на сервере играют 3 игрока. Список хранит количество их здоровья: 10 очков здоровья у первого игрока, 15 - у второго, 20 - у третьего."
   ]
  },
  {
   "cell_type": "code",
   "execution_count": 2,
   "id": "0787b804",
   "metadata": {},
   "outputs": [
    {
     "name": "stdout",
     "output_type": "stream",
     "text": [
      "{\n",
      "\t10,\n",
      "\t15,\n",
      "\t20\n",
      "}\n"
     ]
    }
   ],
   "source": [
    "print( {10, 15, 20} )"
   ]
  },
  {
   "cell_type": "markdown",
   "id": "085bbd2b",
   "metadata": {},
   "source": [
    "Список можно присвоить переменной:"
   ]
  },
  {
   "cell_type": "code",
   "execution_count": 3,
   "id": "b5d3cd7c",
   "metadata": {},
   "outputs": [],
   "source": [
    "player_hp = {10, 15, 20}"
   ]
  },
  {
   "cell_type": "markdown",
   "id": "9e82d91f",
   "metadata": {},
   "source": [
    "Чтобы запросить элемент списка, нужно после переменной указать квадратные скобки и номер элемента. Номера начинаются с 1. Например, запросим очки здоровья второго игрока:"
   ]
  },
  {
   "cell_type": "code",
   "execution_count": 4,
   "id": "0c3286ce",
   "metadata": {},
   "outputs": [
    {
     "name": "stdout",
     "output_type": "stream",
     "text": [
      "15\n"
     ]
    }
   ],
   "source": [
    "print(player_hp[2])"
   ]
  },
  {
   "cell_type": "markdown",
   "id": "4286d943",
   "metadata": {},
   "source": [
    "Если запросить элемент, которого нет в списке, будет возвращено специальное значение nil, которое означает, что значения нет:"
   ]
  },
  {
   "cell_type": "code",
   "execution_count": 5,
   "id": "f79962f5",
   "metadata": {},
   "outputs": [
    {
     "name": "stdout",
     "output_type": "stream",
     "text": [
      "nil\n"
     ]
    }
   ],
   "source": [
    "print(player_hp[10])"
   ]
  },
  {
   "cell_type": "markdown",
   "id": "4748e96d",
   "metadata": {},
   "source": [
    "## Практика: создание простых списков"
   ]
  },
  {
   "cell_type": "markdown",
   "id": "2d7ca2ec",
   "metadata": {},
   "source": [
    "Создайте и присвойте переменной inv список с названиями трёх предметов инвентаря: chair, axe, coal. Выведите с помощью print название третьего предмета."
   ]
  },
  {
   "cell_type": "code",
   "execution_count": null,
   "id": "84307587",
   "metadata": {},
   "outputs": [],
   "source": []
  },
  {
   "cell_type": "code",
   "execution_count": null,
   "id": "63145905",
   "metadata": {},
   "outputs": [],
   "source": []
  },
  {
   "cell_type": "code",
   "execution_count": null,
   "id": "eb50f66c",
   "metadata": {},
   "outputs": [],
   "source": []
  },
  {
   "cell_type": "code",
   "execution_count": null,
   "id": "022c1343",
   "metadata": {},
   "outputs": [],
   "source": []
  },
  {
   "cell_type": "code",
   "execution_count": null,
   "id": "87c1ba5d",
   "metadata": {},
   "outputs": [],
   "source": []
  },
  {
   "cell_type": "markdown",
   "id": "76257cdf",
   "metadata": {},
   "source": [
    "## Типы значений в списке"
   ]
  },
  {
   "cell_type": "markdown",
   "id": "a8d462c3",
   "metadata": {},
   "source": [
    "Списки, в которых все элементы одного типа, ещё называются массивами. Но элементы списка могут иметь разные типы. Например, ниже мы создали список из трёх значений разных типов:\n",
    "* ника игрока - строка\n",
    "* количества очков здоровья - число\n",
    "* признака, первый ли это заход на сервер - булево значение"
   ]
  },
  {
   "cell_type": "code",
   "execution_count": 8,
   "id": "6fd83037",
   "metadata": {},
   "outputs": [
    {
     "name": "stdout",
     "output_type": "stream",
     "text": [
      "{\n",
      "\t\"jay\",\n",
      "\t10,\n",
      "\ttrue\n",
      "}\n"
     ]
    }
   ],
   "source": [
    "print( {'jay', 10, true} )"
   ]
  },
  {
   "cell_type": "markdown",
   "id": "56a4a4dd",
   "metadata": {},
   "source": [
    "Список может не содержать значение вовсе, т.е. быть пустым:"
   ]
  },
  {
   "cell_type": "code",
   "execution_count": 5,
   "id": "66101eeb",
   "metadata": {},
   "outputs": [
    {
     "name": "stdout",
     "output_type": "stream",
     "text": [
      "{\n",
      "\t\n",
      "}\n"
     ]
    }
   ],
   "source": [
    "print({})"
   ]
  },
  {
   "cell_type": "markdown",
   "id": "a524839f",
   "metadata": {},
   "source": [
    "## Практика: создание списков с разными типами значений"
   ]
  },
  {
   "cell_type": "markdown",
   "id": "990821bf",
   "metadata": {},
   "source": [
    "Создайте и выведите список, который мог бы представлять один предмет инвентаря. В списке как минимум будет название предмета и его количество."
   ]
  },
  {
   "cell_type": "code",
   "execution_count": null,
   "id": "45623459",
   "metadata": {},
   "outputs": [],
   "source": []
  },
  {
   "cell_type": "code",
   "execution_count": null,
   "id": "cce8e63f",
   "metadata": {},
   "outputs": [],
   "source": []
  },
  {
   "cell_type": "code",
   "execution_count": null,
   "id": "3c322878",
   "metadata": {},
   "outputs": [],
   "source": []
  },
  {
   "cell_type": "code",
   "execution_count": null,
   "id": "ab1caeca",
   "metadata": {},
   "outputs": [],
   "source": []
  },
  {
   "cell_type": "code",
   "execution_count": null,
   "id": "a926d4a2",
   "metadata": {},
   "outputs": [],
   "source": []
  },
  {
   "cell_type": "markdown",
   "id": "b00b4f18",
   "metadata": {},
   "source": [
    "## Вложенные списки"
   ]
  },
  {
   "cell_type": "markdown",
   "id": "eba5cab7",
   "metadata": {},
   "source": [
    "Списки могут быть вложенными, т.е. содержать внутри себя другие списки. Например, список игроков сервера может выглядеть так:"
   ]
  },
  {
   "cell_type": "code",
   "execution_count": 9,
   "id": "a6fc089c",
   "metadata": {},
   "outputs": [],
   "source": [
    "players = { {'jay', 10}, {'sam', 15}, {'jim', 20} }"
   ]
  },
  {
   "cell_type": "markdown",
   "id": "9293adf9",
   "metadata": {},
   "source": [
    "Если выбрать из этого списка третьего игрока, мы получим внутренний список с его именем и здоровьем:"
   ]
  },
  {
   "cell_type": "code",
   "execution_count": 10,
   "id": "0fc66b65",
   "metadata": {},
   "outputs": [
    {
     "name": "stdout",
     "output_type": "stream",
     "text": [
      "{\n",
      "\t\"jim\",\n",
      "\t20\n",
      "}\n"
     ]
    }
   ],
   "source": [
    "print(players[3])"
   ]
  },
  {
   "cell_type": "markdown",
   "id": "5b060af9",
   "metadata": {},
   "source": [
    "Если мы хотим получить ТОЛЬКО здоровье третьего игрока, нужно проделать два шага."
   ]
  },
  {
   "cell_type": "markdown",
   "id": "eba1e49b",
   "metadata": {},
   "source": [
    "Вначале присвоим внутренний список с данными третьего игрока переменной player3:"
   ]
  },
  {
   "cell_type": "code",
   "execution_count": 11,
   "id": "b3e2bfd1",
   "metadata": {},
   "outputs": [
    {
     "name": "stdout",
     "output_type": "stream",
     "text": [
      "{\n",
      "\t\"jim\",\n",
      "\t20\n",
      "}\n"
     ]
    }
   ],
   "source": [
    "player3 = players[3]\n",
    "print(player3)"
   ]
  },
  {
   "cell_type": "markdown",
   "id": "b98974c0",
   "metadata": {},
   "source": [
    "А затем извлечём здоровье из второго элемента этого внутреннего списка:"
   ]
  },
  {
   "cell_type": "code",
   "execution_count": 13,
   "id": "d691ba4e",
   "metadata": {},
   "outputs": [
    {
     "name": "stdout",
     "output_type": "stream",
     "text": [
      "20\n"
     ]
    }
   ],
   "source": [
    "print(player3[2])"
   ]
  },
  {
   "cell_type": "markdown",
   "id": "9da7b026",
   "metadata": {},
   "source": [
    "Но можно объединить эти два шага в один, если указать вторые квадратные скобки:"
   ]
  },
  {
   "cell_type": "code",
   "execution_count": 9,
   "id": "0e0dba28",
   "metadata": {},
   "outputs": [
    {
     "name": "stdout",
     "output_type": "stream",
     "text": [
      "20\n"
     ]
    }
   ],
   "source": [
    "print(players[3][2])"
   ]
  },
  {
   "cell_type": "markdown",
   "id": "cc2cc56c",
   "metadata": {},
   "source": [
    "Квадратные скобки в выражении players[3][2] читаются слева направо и дословно означают \"извлеки третий элемент из players, а затем извлеки второй элемент из этого третьего элемента\" или \"излеки второй элемент из третьего элемента players\"."
   ]
  },
  {
   "cell_type": "markdown",
   "id": "c0b065d6",
   "metadata": {},
   "source": [
    "## Вложенность не ограничена"
   ]
  },
  {
   "cell_type": "markdown",
   "id": "00857707",
   "metadata": {},
   "source": [
    "Вложенность списков может быть сколь угодно большой. Например, у каждого игрока может быть список зон на карте, которые ему принадлежат:"
   ]
  },
  {
   "cell_type": "code",
   "execution_count": 14,
   "id": "58aa415e",
   "metadata": {},
   "outputs": [],
   "source": [
    "players = {\n",
    "    {'jay', 10, {'house5', 'ship'}},\n",
    "    {'sam', 15, {'dungeon1'}      },\n",
    "    {'jim', 20, {}                },\n",
    "}"
   ]
  },
  {
   "cell_type": "markdown",
   "id": "0500a2f6",
   "metadata": {},
   "source": [
    "Первому игроку принадлежат две зоны (house5 и ship), второму - одна (dungeon1), третьему - ни одной, т.к. список его зон пуст."
   ]
  },
  {
   "cell_type": "code",
   "execution_count": 15,
   "id": "917504df",
   "metadata": {},
   "outputs": [
    {
     "name": "stdout",
     "output_type": "stream",
     "text": [
      "ship\n"
     ]
    }
   ],
   "source": [
    "print(players[1][3][2]) -- вывести вторую зону первого игрока"
   ]
  },
  {
   "cell_type": "markdown",
   "id": "5ba45f23",
   "metadata": {},
   "source": [
    "## Практика: создание вложенных списков"
   ]
  },
  {
   "cell_type": "markdown",
   "id": "20103b4c",
   "metadata": {},
   "source": [
    "Создайте и присвойте переменной inv список из трёх предметов инвентаря: chair(10), axe(7), coal(23). В скобках указано количество каждого предмета. Каждый предмет сам является списком, в котором указано название и количество предмета. Выведите с помощью print название второго предмета. Выведите суммарное количество всех предметов."
   ]
  },
  {
   "cell_type": "markdown",
   "id": "ee99f98e",
   "metadata": {},
   "source": [
    "## Изменение списков"
   ]
  },
  {
   "cell_type": "markdown",
   "id": "53691d0a",
   "metadata": {},
   "source": [
    "Чтобы изменить элемент списка, нужно присвоить ему новое значение. Например, создадим список со здоровьем игроков:"
   ]
  },
  {
   "cell_type": "code",
   "execution_count": 12,
   "id": "7ba703e8",
   "metadata": {},
   "outputs": [
    {
     "name": "stdout",
     "output_type": "stream",
     "text": [
      "{\n",
      "\t10,\n",
      "\t15,\n",
      "\t20\n",
      "}\n"
     ]
    }
   ],
   "source": [
    "player_hp = {10, 15, 20}\n",
    "print(player_hp)"
   ]
  },
  {
   "cell_type": "markdown",
   "id": "47779600",
   "metadata": {},
   "source": [
    "Теперь сделаем количество здоровья второго игрока равным 18:"
   ]
  },
  {
   "cell_type": "code",
   "execution_count": 13,
   "id": "a44c0776",
   "metadata": {},
   "outputs": [
    {
     "name": "stdout",
     "output_type": "stream",
     "text": [
      "{\n",
      "\t10,\n",
      "\t18,\n",
      "\t20\n",
      "}\n"
     ]
    }
   ],
   "source": [
    "player_hp[2] = 18\n",
    "print(player_hp)"
   ]
  },
  {
   "cell_type": "markdown",
   "id": "46221ce6",
   "metadata": {},
   "source": [
    "!!!указать что значение поменялорсь"
   ]
  },
  {
   "cell_type": "markdown",
   "id": "716f2e97",
   "metadata": {},
   "source": [
    "Допустим, затем первый игрок упал со скалы и нужно отнять 7 очков от его текущего здоровья:"
   ]
  },
  {
   "cell_type": "code",
   "execution_count": 14,
   "id": "21d01f0b",
   "metadata": {},
   "outputs": [
    {
     "name": "stdout",
     "output_type": "stream",
     "text": [
      "{\n",
      "\t3,\n",
      "\t18,\n",
      "\t20\n",
      "}\n"
     ]
    }
   ],
   "source": [
    "player_hp[1] = player_hp[1] - 7\n",
    "print(player_hp)"
   ]
  },
  {
   "cell_type": "markdown",
   "id": "9f348c35",
   "metadata": {},
   "source": [
    "Не забываем, что вначале вычисляется выражение справа от знака = и его результат записывается в то, что указано слева от знака =. В примере выше сначала посчитается player_hp[1] - 7 и затем результат 3 станет новым значением player_hp[1]."
   ]
  },
  {
   "cell_type": "markdown",
   "id": "e1f15ff4",
   "metadata": {},
   "source": [
    "**ЗАДАНИЕ**: Создайте простой список с названиями предметов инвентаря, например: меч, топор, шар. Присвойте список переменной inv. Замените элемент \"шар\" на \"копьё\" и выведите изменённый список с помощью print."
   ]
  },
  {
   "cell_type": "markdown",
   "id": "86531258",
   "metadata": {},
   "source": [
    "!!!убрать например и перейти на ENGLISH"
   ]
  },
  {
   "cell_type": "code",
   "execution_count": 17,
   "id": "9c203c53",
   "metadata": {},
   "outputs": [],
   "source": [
    "inv = {'меч','топор','шар'}"
   ]
  },
  {
   "cell_type": "code",
   "execution_count": 19,
   "id": "d9e1ea4b",
   "metadata": {},
   "outputs": [
    {
     "name": "stdout",
     "output_type": "stream",
     "text": [
      "{\n",
      "\t\"меч\",\n",
      "\t\"топор\",\n",
      "\t\"копье\"\n",
      "}\n"
     ]
    }
   ],
   "source": [
    "inv[3] = 'копье'\n",
    "print(inv)"
   ]
  },
  {
   "cell_type": "markdown",
   "id": "7ee72f84",
   "metadata": {},
   "source": [
    "Аналогично можно изменять и элементы вложенных списков:"
   ]
  },
  {
   "cell_type": "code",
   "execution_count": 11,
   "id": "59a23a86",
   "metadata": {},
   "outputs": [
    {
     "name": "stdout",
     "output_type": "stream",
     "text": [
      "{\n",
      "\t{\n",
      "\t\t\"freddy\",\n",
      "\t\t13\n",
      "\t},\n",
      "\t{\n",
      "\t\t\"sam\",\n",
      "\t\t15\n",
      "\t},\n",
      "\t{\n",
      "\t\t\"jim boy\",\n",
      "\t\t20\n",
      "\t}\n",
      "}\n"
     ]
    }
   ],
   "source": [
    "players = { {'jay', 10}, {'sam', 15}, {'jim', 20} }\n",
    "players[1] = {'freddy', 13} -- целиком заменить первого игрока с {'jay', 10} на {'freddy', 13}\n",
    "players[3][1] = players[3][1] .. ' boy' -- добавить слово ' boy' к имени третьего игрока\n",
    "print(players)"
   ]
  },
  {
   "cell_type": "markdown",
   "id": "f537c4fd",
   "metadata": {},
   "source": [
    "**ЗАДАНИЕ**: Создать вложенный список инвентаря inv, где каждый предмет это список из имени и количества. Вывести список inv. Затем заменить целиком третий предмет инвентаря и удвоить **текущее** (а не просто прописать новое число) количество первого предмета, вывести изменённый список."
   ]
  },
  {
   "cell_type": "code",
   "execution_count": 37,
   "id": "47fffb1d",
   "metadata": {},
   "outputs": [
    {
     "name": "stdout",
     "output_type": "stream",
     "text": [
      "{\n",
      "\t{\n",
      "\t\t\"кирка\",\n",
      "\t\t500\n",
      "\t},\n",
      "\t{\n",
      "\t\t\"шкаф\",\n",
      "\t\t4000\n",
      "\t},\n",
      "\t{\n",
      "\t\t\"лампа\",\n",
      "\t\t4100\n",
      "\t}\n",
      "}\n",
      "{\n",
      "\t{\n",
      "\t\t\"кирка\",\n",
      "\t\t1000\n",
      "\t},\n",
      "\t{\n",
      "\t\t\"шкаф\",\n",
      "\t\t4000\n",
      "\t},\n",
      "\t{\n",
      "\t\t\"нож\",\n",
      "\t\t4000\n",
      "\t}\n",
      "}\n"
     ]
    }
   ],
   "source": [
    "inv = { {'кирка',500},{'шкаф',4000},{'лампа',4100} }\n",
    "print(inv)\n",
    "inv[3]={'нож',4000}\n",
    "inv[1][2]=inv[1][2]*2\n",
    "print(inv)"
   ]
  },
  {
   "cell_type": "markdown",
   "id": "54c602c7",
   "metadata": {},
   "source": [
    "## Длина списка"
   ]
  },
  {
   "cell_type": "markdown",
   "id": "cd660918",
   "metadata": {},
   "source": [
    "Чтобы получить количество элементов в списке, нужно использовать оператор длины #, который указывается перед списком:"
   ]
  },
  {
   "cell_type": "code",
   "execution_count": 34,
   "id": "12f86610",
   "metadata": {},
   "outputs": [
    {
     "name": "stdout",
     "output_type": "stream",
     "text": [
      "0\t2\t3\n"
     ]
    }
   ],
   "source": [
    "names = {'sam', 'jay', 'pat'}\n",
    "print(#{}, #{2, 3}, #names)"
   ]
  },
  {
   "cell_type": "markdown",
   "id": "060e4094",
   "metadata": {},
   "source": [
    "Если запросить элемент с номером больше длины списка, будет возвращено специальное значение nil, которое означает, что значения нет:"
   ]
  },
  {
   "cell_type": "code",
   "execution_count": 35,
   "id": "0b9ec14b",
   "metadata": {},
   "outputs": [
    {
     "name": "stdout",
     "output_type": "stream",
     "text": [
      "nil\n"
     ]
    }
   ],
   "source": [
    "print(names[4])"
   ]
  },
  {
   "cell_type": "markdown",
   "id": "83a3c944",
   "metadata": {},
   "source": [
    "По сути, длина списка - это количество элементов до первого nil. Чтобы добавить элемент в список, нужно записать не-nil значение в его последний элемент:"
   ]
  },
  {
   "cell_type": "code",
   "execution_count": 36,
   "id": "629bbbbc",
   "metadata": {},
   "outputs": [
    {
     "name": "stdout",
     "output_type": "stream",
     "text": [
      "4\n"
     ]
    }
   ],
   "source": [
    "names[4] = 'ray'\n",
    "print(#names)"
   ]
  },
  {
   "cell_type": "markdown",
   "id": "1181e8df",
   "metadata": {},
   "source": [
    "Чтобы добавить элемент без знания количества элементов, нужно воспользоваться оператором длины:"
   ]
  },
  {
   "cell_type": "code",
   "execution_count": 37,
   "id": "a48d2420",
   "metadata": {},
   "outputs": [
    {
     "name": "stdout",
     "output_type": "stream",
     "text": [
      "5\n"
     ]
    }
   ],
   "source": [
    "names[#names + 1] = 'kay'\n",
    "print(#names)"
   ]
  },
  {
   "cell_type": "markdown",
   "id": "70bfcc86",
   "metadata": {},
   "source": [
    "В примере выше, чтобы понять, в какой элемент записать значение 'kay', lua вначале вычислит выражение в квадратных скобках: текущая длина names плюс 1, то есть 4 + 1. Результат 5 означает запись в элемент, следующий за текущим последним элементом. Таким образом длина списка увеличится."
   ]
  },
  {
   "cell_type": "markdown",
   "id": "b44a06ee",
   "metadata": {},
   "source": [
    "Чтобы удалить элемент списка, нужно записать в него nil:"
   ]
  },
  {
   "cell_type": "code",
   "execution_count": 38,
   "id": "4906de2d",
   "metadata": {},
   "outputs": [
    {
     "name": "stdout",
     "output_type": "stream",
     "text": [
      "4\n"
     ]
    }
   ],
   "source": [
    "names[5] = nil\n",
    "print(#names)"
   ]
  },
  {
   "cell_type": "code",
   "execution_count": 39,
   "id": "d924974b",
   "metadata": {},
   "outputs": [
    {
     "name": "stdout",
     "output_type": "stream",
     "text": [
      "3\n"
     ]
    }
   ],
   "source": [
    "names[#names] = nil -- универсальный вариант, чтобы не прописывать номер\n",
    "print(#names)"
   ]
  },
  {
   "cell_type": "markdown",
   "id": "c1007178",
   "metadata": {},
   "source": [
    "**ЗАДАНИЕ**: Создать список inv с названиями предметов инвентаря длиной 2 и вывести print. Добавить с использованием оператора # ещё 2 элемента и вывести новую длину. Затем удалить последний элемент и вывести конечный вариант списка."
   ]
  },
  {
   "cell_type": "code",
   "execution_count": null,
   "id": "15256a8e",
   "metadata": {},
   "outputs": [],
   "source": []
  },
  {
   "cell_type": "code",
   "execution_count": null,
   "id": "25d0062f",
   "metadata": {},
   "outputs": [],
   "source": []
  },
  {
   "cell_type": "code",
   "execution_count": null,
   "id": "a208da44",
   "metadata": {},
   "outputs": [],
   "source": []
  },
  {
   "cell_type": "code",
   "execution_count": null,
   "id": "2a634281",
   "metadata": {},
   "outputs": [],
   "source": []
  },
  {
   "cell_type": "code",
   "execution_count": null,
   "id": "9adf7d28",
   "metadata": {},
   "outputs": [],
   "source": []
  },
  {
   "cell_type": "code",
   "execution_count": null,
   "id": "a9933226",
   "metadata": {},
   "outputs": [],
   "source": []
  },
  {
   "cell_type": "code",
   "execution_count": null,
   "id": "4432cf94",
   "metadata": {},
   "outputs": [],
   "source": []
  },
  {
   "cell_type": "code",
   "execution_count": null,
   "id": "606492db",
   "metadata": {},
   "outputs": [],
   "source": []
  },
  {
   "cell_type": "code",
   "execution_count": 2,
   "id": "aedb84dd",
   "metadata": {},
   "outputs": [
    {
     "name": "stdout",
     "output_type": "stream",
     "text": [
      "уголь\n"
     ]
    }
   ],
   "source": [
    "inv = {'стул','топор','уголь'}\n",
    "print(inv[3])"
   ]
  },
  {
   "cell_type": "code",
   "execution_count": null,
   "id": "dcc5afca",
   "metadata": {},
   "outputs": [],
   "source": []
  },
  {
   "cell_type": "code",
   "execution_count": 3,
   "id": "574be6d0",
   "metadata": {},
   "outputs": [
    {
     "name": "stdout",
     "output_type": "stream",
     "text": [
      "{\n",
      "\t\"уголь\",\n",
      "\t51\n",
      "}\n"
     ]
    }
   ],
   "source": [
    "print({'уголь',51})"
   ]
  },
  {
   "cell_type": "code",
   "execution_count": null,
   "id": "4ee28b62",
   "metadata": {},
   "outputs": [],
   "source": []
  },
  {
   "cell_type": "code",
   "execution_count": 6,
   "id": "e4b11f9a",
   "metadata": {},
   "outputs": [
    {
     "name": "stdout",
     "output_type": "stream",
     "text": [
      "35\n"
     ]
    }
   ],
   "source": [
    "inv = {{'стул',22},{'топор',6},{'холодильник',35}}\n",
    "print(inv[3][2])"
   ]
  }
 ],
 "metadata": {
  "kernelspec": {
   "display_name": "Minetest Lua",
   "language": "lua",
   "name": "mtlua"
  },
  "language_info": {
   "file_extension": ".lua",
   "mimetype": "text/x-lua",
   "name": "lua"
  }
 },
 "nbformat": 4,
 "nbformat_minor": 5
}
