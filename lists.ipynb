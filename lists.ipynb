{
 "cells": [
  {
   "cell_type": "markdown",
   "id": "6ef5d58f",
   "metadata": {},
   "source": [
    "# Списки"
   ]
  },
  {
   "cell_type": "markdown",
   "id": "920428bc",
   "metadata": {},
   "source": [
    "Список используется для хранения набора значений и создаётся с помощью фигурных скобок {}, внутри которых значения перечисляются через запятую. Например, на сервере играют 3 игрока. Список хранит количество их здоровья: 10 очков здоровья у первого игрока, 15 - у второго, 20 - у третьего."
   ]
  },
  {
   "cell_type": "code",
   "execution_count": 1,
   "id": "02d42bf2",
   "metadata": {},
   "outputs": [
    {
     "name": "stdout",
     "output_type": "stream",
     "text": [
      "{\n",
      "\t10,\n",
      "\t15,\n",
      "\t20\n",
      "}\n"
     ]
    }
   ],
   "source": [
    "print({10, 15, 20})"
   ]
  },
  {
   "cell_type": "markdown",
   "id": "672f5510",
   "metadata": {},
   "source": [
    "Список можно присвоить переменной:"
   ]
  },
  {
   "cell_type": "code",
   "execution_count": 2,
   "id": "207b536f",
   "metadata": {},
   "outputs": [],
   "source": [
    "player_hp = {10, 15, 20}"
   ]
  },
  {
   "cell_type": "markdown",
   "id": "5e536b11",
   "metadata": {},
   "source": [
    "Чтобы запросить элемент списка, нужно после переменной указать квадратные скобки и номер элемента. Номера начинаются с 1. Например, запросим очки здоровья второго игрока:"
   ]
  },
  {
   "cell_type": "code",
   "execution_count": 3,
   "id": "9b09408b",
   "metadata": {},
   "outputs": [
    {
     "name": "stdout",
     "output_type": "stream",
     "text": [
      "15\n"
     ]
    }
   ],
   "source": [
    "print(player_hp[2])"
   ]
  },
  {
   "cell_type": "markdown",
   "id": "5864a1e8",
   "metadata": {},
   "source": [
    "**ЗАДАНИЕ**: Создайте ниже список с названиями предметов инвентаря, которые есть у игрока. Например: стул, топор, уголь. Присвойте список с инвентарём переменной inv и выведите с помощью print название третьего предмета."
   ]
  },
  {
   "cell_type": "code",
   "execution_count": null,
   "id": "58512d60",
   "metadata": {},
   "outputs": [],
   "source": []
  },
  {
   "cell_type": "markdown",
   "id": "e343fff8",
   "metadata": {},
   "source": [
    "Значения в списке могут быть разных типов. Например, ниже для игрока сервера мы создали список из двух значений: его ника и количества очков здоровья."
   ]
  },
  {
   "cell_type": "code",
   "execution_count": 4,
   "id": "295102cb",
   "metadata": {},
   "outputs": [
    {
     "name": "stdout",
     "output_type": "stream",
     "text": [
      "{\n",
      "\t\"jay\",\n",
      "\t10\n",
      "}\n"
     ]
    }
   ],
   "source": [
    "print({'jay', 10})"
   ]
  },
  {
   "cell_type": "markdown",
   "id": "8dcbb8c6",
   "metadata": {},
   "source": [
    "**ЗАДАНИЕ**: Выведите список, который мог бы представлять один предмет инвентаря. В списке будет название предмета и его количество."
   ]
  },
  {
   "cell_type": "code",
   "execution_count": null,
   "id": "adc9ce64",
   "metadata": {},
   "outputs": [],
   "source": []
  },
  {
   "cell_type": "markdown",
   "id": "1130b5f3",
   "metadata": {},
   "source": [
    "Список может быть пустым:"
   ]
  },
  {
   "cell_type": "code",
   "execution_count": 5,
   "id": "613433b9",
   "metadata": {},
   "outputs": [
    {
     "name": "stdout",
     "output_type": "stream",
     "text": [
      "{\n",
      "\t\n",
      "}\n"
     ]
    }
   ],
   "source": [
    "print({})"
   ]
  },
  {
   "cell_type": "markdown",
   "id": "90b74765",
   "metadata": {},
   "source": [
    "## Вложенные списки"
   ]
  },
  {
   "cell_type": "markdown",
   "id": "7ececf9e",
   "metadata": {},
   "source": [
    "Списки могут быть вложенными, т.е. содержать внутри себя другие списки. Например, список игроков сервера может выглядеть так:"
   ]
  },
  {
   "cell_type": "code",
   "execution_count": 6,
   "id": "58fc01c9",
   "metadata": {},
   "outputs": [],
   "source": [
    "players = { {'jay', 10}, {'sam', 15}, {'jim', 20} }"
   ]
  },
  {
   "cell_type": "markdown",
   "id": "31490517",
   "metadata": {},
   "source": [
    "Если выбрать из этого списка третьего игрока, мы получим внутренний список с его именем и здоровьем:"
   ]
  },
  {
   "cell_type": "code",
   "execution_count": 7,
   "id": "80d1435d",
   "metadata": {},
   "outputs": [
    {
     "name": "stdout",
     "output_type": "stream",
     "text": [
      "{\n",
      "\t\"jim\",\n",
      "\t20\n",
      "}\n"
     ]
    }
   ],
   "source": [
    "print(players[3])"
   ]
  },
  {
   "cell_type": "markdown",
   "id": "165cdc1f",
   "metadata": {},
   "source": [
    "Чтобы получить здоровье третьего игрока, нужно проделать два шага:"
   ]
  },
  {
   "cell_type": "code",
   "execution_count": 8,
   "id": "7aceb53e",
   "metadata": {},
   "outputs": [
    {
     "name": "stdout",
     "output_type": "stream",
     "text": [
      "20\n"
     ]
    }
   ],
   "source": [
    "player3 = players[3] -- присвоить внутренний список с данными третьего игрока переменной player3\n",
    "print(player3[2]) -- получить здоровье из внутреннего списка"
   ]
  },
  {
   "cell_type": "markdown",
   "id": "c2bb49b6",
   "metadata": {},
   "source": [
    "А можно объединить два шага в один, если указать вторые квадратные скобки:"
   ]
  },
  {
   "cell_type": "code",
   "execution_count": 9,
   "id": "7027b624",
   "metadata": {},
   "outputs": [
    {
     "name": "stdout",
     "output_type": "stream",
     "text": [
      "20\n"
     ]
    }
   ],
   "source": [
    "print(players[3][2])"
   ]
  },
  {
   "cell_type": "markdown",
   "id": "8b96c5c0",
   "metadata": {},
   "source": [
    "**ЗАДАНИЕ**: Создайте список с предметами инвентаря и присвойте переменной inv. Каждый предмет инвентаря сам является списком, в котором указано название и количество предмета. Выведите с помощью print название второго предмета.\n",
    "\n",
    "**БОНУС**: Выведите суммарное количество всех предметов инвентаря."
   ]
  },
  {
   "cell_type": "code",
   "execution_count": null,
   "id": "3a8f9070",
   "metadata": {},
   "outputs": [],
   "source": []
  },
  {
   "cell_type": "markdown",
   "id": "99c90888",
   "metadata": {},
   "source": [
    "Вложенность списков может быть сколь угодно большой. Например, у каждого игрока может быть список зон на карте, которые ему принадлежат:"
   ]
  },
  {
   "cell_type": "code",
   "execution_count": 10,
   "id": "c862a1a8",
   "metadata": {},
   "outputs": [],
   "source": [
    "players = { {'jay', 10, {}}, {'sam', 15, {'house5', 'ship'}}, {'jim', 20, {'dungeon1'}} }"
   ]
  },
  {
   "cell_type": "markdown",
   "id": "e6b0d846",
   "metadata": {},
   "source": [
    "У первого игрока выше нет принадлежащих ему зон, т.к. список пустой. У второго игрока зон две, у третьего - одна."
   ]
  },
  {
   "cell_type": "code",
   "execution_count": 11,
   "id": "3b6278f9",
   "metadata": {},
   "outputs": [
    {
     "name": "stdout",
     "output_type": "stream",
     "text": [
      "house5\n"
     ]
    }
   ],
   "source": [
    "print(players[2][3][1]) -- вывести первую зону второго игрока"
   ]
  },
  {
   "cell_type": "markdown",
   "id": "a91e34a7",
   "metadata": {},
   "source": [
    "## Изменение списков"
   ]
  },
  {
   "cell_type": "markdown",
   "id": "ff9c027f",
   "metadata": {},
   "source": [
    "Чтобы изменить элемент списка, нужно присвоить ему новое значение. Например, создадим список со здоровьем игроков:"
   ]
  },
  {
   "cell_type": "code",
   "execution_count": 12,
   "id": "a92a8e3b",
   "metadata": {},
   "outputs": [
    {
     "name": "stdout",
     "output_type": "stream",
     "text": [
      "{\n",
      "\t10,\n",
      "\t15,\n",
      "\t20\n",
      "}\n"
     ]
    }
   ],
   "source": [
    "player_hp = {10, 15, 20}\n",
    "print(player_hp)"
   ]
  },
  {
   "cell_type": "markdown",
   "id": "e254c16b",
   "metadata": {},
   "source": [
    "Теперь сделаем количество здоровья второго игрока равным 18:"
   ]
  },
  {
   "cell_type": "code",
   "execution_count": 13,
   "id": "f7a6eaa4",
   "metadata": {},
   "outputs": [
    {
     "name": "stdout",
     "output_type": "stream",
     "text": [
      "{\n",
      "\t10,\n",
      "\t18,\n",
      "\t20\n",
      "}\n"
     ]
    }
   ],
   "source": [
    "player_hp[2] = 18\n",
    "print(player_hp)"
   ]
  },
  {
   "cell_type": "markdown",
   "id": "92752e61",
   "metadata": {},
   "source": [
    "Допустим, затем первый игрок упал со скалы и нужно отнять 7 очков от его текущего здоровья:"
   ]
  },
  {
   "cell_type": "code",
   "execution_count": 14,
   "id": "903cb2e2",
   "metadata": {},
   "outputs": [
    {
     "name": "stdout",
     "output_type": "stream",
     "text": [
      "{\n",
      "\t3,\n",
      "\t18,\n",
      "\t20\n",
      "}\n"
     ]
    }
   ],
   "source": [
    "player_hp[1] = player_hp[1] - 7\n",
    "print(player_hp)"
   ]
  },
  {
   "cell_type": "markdown",
   "id": "70c0213d",
   "metadata": {},
   "source": [
    "Не забываем, что вначале вычисляется выражение справа от знака = и его результат записывается в то, что указано слева от знака =. В примере выше сначала посчитается player_hp[1] - 7 и затем результат 3 станет новым значением player_hp[1]."
   ]
  },
  {
   "cell_type": "markdown",
   "id": "f7295095",
   "metadata": {},
   "source": [
    "**ЗАДАНИЕ**: Создайте простой список с названиями предметов инвентаря, например: меч, топор, шар. Присвойте список переменной inv. Замените элемент \"шар\" на \"копьё\" и выведите изменённый список с помощью print."
   ]
  },
  {
   "cell_type": "markdown",
   "id": "c70977ec",
   "metadata": {},
   "source": [
    "Аналогично можно изменять и элементы вложенных списков:"
   ]
  },
  {
   "cell_type": "code",
   "execution_count": 15,
   "id": "8c80449e",
   "metadata": {},
   "outputs": [
    {
     "name": "stdout",
     "output_type": "stream",
     "text": [
      "{\n",
      "\t{\n",
      "\t\t\"freddy\",\n",
      "\t\t13\n",
      "\t},\n",
      "\t{\n",
      "\t\t\"sam\",\n",
      "\t\t15\n",
      "\t},\n",
      "\t{\n",
      "\t\t\"jim boy\",\n",
      "\t\t20\n",
      "\t}\n",
      "}\n"
     ]
    }
   ],
   "source": [
    "players = { {'jay', 10}, {'sam', 15}, {'jim', 20} }\n",
    "players[1] = {'freddy', 13} -- целиком заменить первого игрока с {'jay', 10} на {'freddy', 13}\n",
    "players[3][1] = players[3][1] .. ' boy' -- добавить слово ' boy' к имени третьего игрока\n",
    "print(players)"
   ]
  },
  {
   "cell_type": "markdown",
   "id": "fb9d2465",
   "metadata": {},
   "source": [
    "**ЗАДАНИЕ**: Создать вложенный список инвентаря inv, где каждый предмет это список из имени и количества. Вывести список inv. Затем заменить целиком третий предмет инвентаря и удвоить **текущее** (а не просто прописать новое число) количество первого предмета, вывести изменённый список."
   ]
  },
  {
   "cell_type": "code",
   "execution_count": null,
   "id": "ad437b0e",
   "metadata": {},
   "outputs": [],
   "source": []
  },
  {
   "cell_type": "markdown",
   "id": "9f460deb",
   "metadata": {},
   "source": [
    "## Длина списка"
   ]
  },
  {
   "cell_type": "markdown",
   "id": "a5bb4738",
   "metadata": {},
   "source": [
    "Чтобы получить количество элементов в списке, нужно использовать оператор длины #, который указывается перед списком:"
   ]
  },
  {
   "cell_type": "code",
   "execution_count": 34,
   "id": "a26ed3a8",
   "metadata": {},
   "outputs": [
    {
     "name": "stdout",
     "output_type": "stream",
     "text": [
      "0\t2\t3\n"
     ]
    }
   ],
   "source": [
    "names = {'sam', 'jay', 'pat'}\n",
    "print(#{}, #{2, 3}, #names)"
   ]
  },
  {
   "cell_type": "markdown",
   "id": "63860712",
   "metadata": {},
   "source": [
    "Если запросить элемент с номером больше длины списка, будет возвращено специальное значение nil, которое означает, что значения нет:"
   ]
  },
  {
   "cell_type": "code",
   "execution_count": 35,
   "id": "6679f180",
   "metadata": {},
   "outputs": [
    {
     "name": "stdout",
     "output_type": "stream",
     "text": [
      "nil\n"
     ]
    }
   ],
   "source": [
    "print(names[4])"
   ]
  },
  {
   "cell_type": "markdown",
   "id": "b5f504e5",
   "metadata": {},
   "source": [
    "По сути, длина списка - это количество элементов до первого nil. Чтобы добавить элемент в список, нужно записать не-nil значение в его последний элемент:"
   ]
  },
  {
   "cell_type": "code",
   "execution_count": 36,
   "id": "4a2f3312",
   "metadata": {},
   "outputs": [
    {
     "name": "stdout",
     "output_type": "stream",
     "text": [
      "4\n"
     ]
    }
   ],
   "source": [
    "names[4] = 'ray'\n",
    "print(#names)"
   ]
  },
  {
   "cell_type": "markdown",
   "id": "5a75a6ed",
   "metadata": {},
   "source": [
    "Чтобы добавить элемент без знания количества элементов, нужно воспользоваться оператором длины:"
   ]
  },
  {
   "cell_type": "code",
   "execution_count": 37,
   "id": "5e0a812c",
   "metadata": {},
   "outputs": [
    {
     "name": "stdout",
     "output_type": "stream",
     "text": [
      "5\n"
     ]
    }
   ],
   "source": [
    "names[#names + 1] = 'kay'\n",
    "print(#names)"
   ]
  },
  {
   "cell_type": "markdown",
   "id": "3af7edec",
   "metadata": {},
   "source": [
    "В примере выше, чтобы понять, в какой элемент записать значение 'kay', lua вначале вычислит выражение в квадратных скобках: текущая длина names плюс 1, то есть 4 + 1. Результат 5 означает запись в элемент, следующий за текущим последним элементом. Таким образом длина списка увеличится."
   ]
  },
  {
   "cell_type": "markdown",
   "id": "68fd9e5d",
   "metadata": {},
   "source": [
    "Чтобы удалить элемент списка, нужно записать в него nil:"
   ]
  },
  {
   "cell_type": "code",
   "execution_count": 38,
   "id": "68f8fcf5",
   "metadata": {},
   "outputs": [
    {
     "name": "stdout",
     "output_type": "stream",
     "text": [
      "4\n"
     ]
    }
   ],
   "source": [
    "names[5] = nil\n",
    "print(#names)"
   ]
  },
  {
   "cell_type": "code",
   "execution_count": 39,
   "id": "2c957136",
   "metadata": {},
   "outputs": [
    {
     "name": "stdout",
     "output_type": "stream",
     "text": [
      "3\n"
     ]
    }
   ],
   "source": [
    "names[#names] = nil -- универсальный вариант, чтобы не прописывать номер\n",
    "print(#names)"
   ]
  },
  {
   "cell_type": "markdown",
   "id": "19a00d4a",
   "metadata": {},
   "source": [
    "**ЗАДАНИЕ**: Создать список inv с названиями предметов инвентаря длиной 2 и вывести print. Добавить с использованием оператора # ещё 2 элемента и вывести новую длину. Затем удалить последний элемент и вывести конечный вариант списка."
   ]
  },
  {
   "cell_type": "code",
   "execution_count": null,
   "id": "05c22e1e",
   "metadata": {},
   "outputs": [],
   "source": []
  },
  {
   "cell_type": "code",
   "execution_count": null,
   "id": "9183ec51",
   "metadata": {},
   "outputs": [],
   "source": []
  },
  {
   "cell_type": "code",
   "execution_count": null,
   "id": "33e19b45",
   "metadata": {},
   "outputs": [],
   "source": []
  }
 ],
 "metadata": {
  "kernelspec": {
   "display_name": "Minetest Lua",
   "language": "lua",
   "name": "mtlua"
  },
  "language_info": {
   "file_extension": ".lua",
   "mimetype": "text/x-lua",
   "name": "lua"
  }
 },
 "nbformat": 4,
 "nbformat_minor": 5
}
