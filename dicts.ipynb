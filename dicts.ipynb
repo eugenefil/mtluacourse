{
 "cells": [
  {
   "cell_type": "markdown",
   "id": "3a8f1b31",
   "metadata": {},
   "source": [
    "простые словари, доступ\n",
    "нет понятия первый, второй\n",
    "словари со сложными структурами, доступ\n",
    "изменение\n",
    "словари, по сути, являются отд видом списков"
   ]
  },
  {
   "cell_type": "markdown",
   "id": "83a795d1",
   "metadata": {},
   "source": [
    "# Словари"
   ]
  },
  {
   "cell_type": "markdown",
   "id": "901a609b",
   "metadata": {},
   "source": [
    "В других языках программирования могут также называться хэшами, ассоциативными массивами."
   ]
  },
  {
   "cell_type": "markdown",
   "id": "fbee90e9",
   "metadata": {},
   "source": [
    "## Создание, доступ к элементам"
   ]
  },
  {
   "cell_type": "markdown",
   "id": "1db6b075",
   "metadata": {},
   "source": [
    "Данные заносятся и хранятся в словаре в виде пар, состоящих из ключа и значения:"
   ]
  },
  {
   "cell_type": "code",
   "execution_count": 5,
   "id": "3ade94b2",
   "metadata": {},
   "outputs": [
    {
     "name": "stdout",
     "output_type": "stream",
     "text": [
      "{\n",
      "\tjim = 20,\n",
      "\tjay = 10,\n",
      "\tsam = 15\n",
      "}\n"
     ]
    }
   ],
   "source": [
    "players = {['jay'] = 10, ['sam'] = 15, ['jim'] = 20}\n",
    "print(players)"
   ]
  },
  {
   "cell_type": "markdown",
   "id": "4463b3ce",
   "metadata": {},
   "source": [
    "Примечание: Словарь, как и список, использует фигурные скобки. Это оттого, что и для словарей, и для списков в lua используется один и тот же тип объектов - таблица."
   ]
  },
  {
   "cell_type": "markdown",
   "id": "f08e29c5",
   "metadata": {},
   "source": [
    "В словаре players ключом служит строка имени игрока. Ключу соответствует значение - число очков здоровья игрока. Например, ключу 'jay' соответствует число 10."
   ]
  },
  {
   "cell_type": "markdown",
   "id": "91b1c107",
   "metadata": {},
   "source": [
    "Чтобы получить число здоровья для конкретного игрока, нужно запросить его по ключу. Запрос элемента делается так же, как в списках - с помощью квадратных скобок:"
   ]
  },
  {
   "cell_type": "code",
   "execution_count": 4,
   "id": "e3254abe",
   "metadata": {},
   "outputs": [
    {
     "name": "stdout",
     "output_type": "stream",
     "text": [
      "15\n"
     ]
    }
   ],
   "source": [
    "print(players['sam'])"
   ]
  },
  {
   "cell_type": "markdown",
   "id": "ebda47e2",
   "metadata": {},
   "source": [
    "## Практика: создание словарей"
   ]
  },
  {
   "cell_type": "markdown",
   "id": "ec9837d7",
   "metadata": {},
   "source": [
    "1. Создайте и присвойте переменной inv словарь со следующими предметами инвентаря: chair(5), axe(10), coal(15). В скобках указаны их количества. Для каждого элемента словаря: имя - это название предмета, значение - его количество.\n",
    "1. Выведите количество элемента axe.\n",
    "1. Посчитайте и выведите суммарное количество предметов в инвентаре. "
   ]
  },
  {
   "cell_type": "code",
   "execution_count": null,
   "id": "4f7c94f7",
   "metadata": {},
   "outputs": [],
   "source": []
  },
  {
   "cell_type": "code",
   "execution_count": null,
   "id": "2203541e",
   "metadata": {},
   "outputs": [],
   "source": []
  },
  {
   "cell_type": "code",
   "execution_count": null,
   "id": "aec1c2cd",
   "metadata": {},
   "outputs": [],
   "source": []
  },
  {
   "cell_type": "code",
   "execution_count": null,
   "id": "e709dc52",
   "metadata": {},
   "outputs": [],
   "source": []
  },
  {
   "cell_type": "code",
   "execution_count": null,
   "id": "6ff44900",
   "metadata": {},
   "outputs": [],
   "source": []
  },
  {
   "cell_type": "markdown",
   "id": "011776be",
   "metadata": {},
   "source": [
    "## Особый синтаксис для строк"
   ]
  },
  {
   "cell_type": "markdown",
   "id": "18e72a17",
   "metadata": {},
   "source": []
  },
  {
   "cell_type": "code",
   "execution_count": null,
   "id": "8b85891f",
   "metadata": {},
   "outputs": [],
   "source": []
  },
  {
   "cell_type": "code",
   "execution_count": null,
   "id": "635407c5",
   "metadata": {},
   "outputs": [],
   "source": []
  },
  {
   "cell_type": "code",
   "execution_count": null,
   "id": "02077986",
   "metadata": {},
   "outputs": [],
   "source": []
  },
  {
   "cell_type": "code",
   "execution_count": null,
   "id": "87515f34",
   "metadata": {},
   "outputs": [],
   "source": []
  }
 ],
 "metadata": {
  "kernelspec": {
   "display_name": "Minetest Lua",
   "language": "lua",
   "name": "mtlua"
  },
  "language_info": {
   "file_extension": ".lua",
   "mimetype": "text/x-lua",
   "name": "lua"
  }
 },
 "nbformat": 4,
 "nbformat_minor": 5
}
